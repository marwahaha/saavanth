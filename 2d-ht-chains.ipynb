{
 "cells": [
  {
   "cell_type": "code",
   "execution_count": 52,
   "id": "05546947",
   "metadata": {},
   "outputs": [],
   "source": [
    "import numpy as np\n",
    "from scipy.linalg import circulant, toeplitz\n",
    "import seaborn as sns; sns.set()\n",
    "import matplotlib.pyplot as plt\n",
    "import sympy as s\n",
    "import scipy\n",
    "import functools\n",
    "from __future__ import print_function\n",
    "from ipywidgets import interact, interactive, fixed, interact_manual\n",
    "import ipywidgets as widgets\n",
    "from ipywidgets import interactive\n",
    "import matplotlib.pyplot as plt\n",
    "import numpy as np"
   ]
  },
  {
   "cell_type": "code",
   "execution_count": 53,
   "id": "d8bc07bf",
   "metadata": {},
   "outputs": [],
   "source": [
    "# alternating chains\n",
    "def create_circ(forward, backward, N):\n",
    "    return circulant([0,] + [forward,] + [0,]*(N-3) + [backward,])\n",
    "def create_toeplitz(forward, backward, N):\n",
    "    return toeplitz([0,forward] + [0,]*(N-2), [0,backward] + [0,]*(N-2))"
   ]
  },
  {
   "cell_type": "code",
   "execution_count": 54,
   "id": "428646dd",
   "metadata": {},
   "outputs": [],
   "source": [
    "def get_sym_and_anti(c):\n",
    "    val = (c[1][0] + c[0][1])/2\n",
    "    if c[1][0] == c[0][-1]:\n",
    "        sym = create_circ(val, val, len(c))\n",
    "    else:\n",
    "        sym = create_toeplitz(val, val, len(c))\n",
    "    return sym, c-sym"
   ]
  },
  {
   "cell_type": "code",
   "execution_count": 55,
   "id": "a4ea2584",
   "metadata": {},
   "outputs": [],
   "source": [
    "lookup = {\n",
    "    'vf': -999999.0,\n",
    "    'vb': -999998.0,\n",
    "    'hf': -999997.0,\n",
    "    'hb': -999996.0\n",
    "}"
   ]
  },
  {
   "cell_type": "code",
   "execution_count": 56,
   "id": "c6805c76",
   "metadata": {},
   "outputs": [],
   "source": [
    "@functools.lru_cache()\n",
    "def get_symbolic(N):\n",
    "    assert N % 2 == 0\n",
    "    pauli_z = np.array([[1,0],[0,-1]])\n",
    "    I_and_pauli_z = np.kron(np.eye(int(N/2)), pauli_z)\n",
    "    I_and_I = np.eye(N)\n",
    "\n",
    "    vert_block = create_toeplitz(lookup['vf'],lookup['vb'], N)\n",
    "    horiz_block = create_toeplitz(lookup['hf'],lookup['hb'], N)\n",
    "\n",
    "    vert_sym,   vert_anti = get_sym_and_anti(vert_block)\n",
    "    horiz_sym, horiz_anti = get_sym_and_anti(horiz_block)\n",
    "\n",
    "    A_h = np.kron(I_and_pauli_z, horiz_anti) + np.kron(I_and_I, horiz_sym)\n",
    "    A_v = np.kron(vert_anti, I_and_pauli_z) + np.kron(vert_sym, I_and_I)\n",
    "    out = A_h + A_v\n",
    "    def update(a,b,c,d):\n",
    "        out_cp = np.copy(out)\n",
    "        out_cp[out == lookup['vf']] = a\n",
    "        out_cp[out == lookup['vb']] = b\n",
    "        out_cp[out == lookup['hf']] = c\n",
    "        out_cp[out == lookup['hb']] = d\n",
    "        return out_cp\n",
    "    return update"
   ]
  },
  {
   "cell_type": "markdown",
   "id": "c14b2739",
   "metadata": {},
   "source": [
    "## Test it out"
   ]
  },
  {
   "cell_type": "code",
   "execution_count": 57,
   "id": "2db4ca97",
   "metadata": {},
   "outputs": [
    {
     "name": "stdout",
     "output_type": "stream",
     "text": [
      "CPU times: user 28.3 s, sys: 20.9 s, total: 49.3 s\n",
      "Wall time: 6.88 s\n"
     ]
    },
    {
     "data": {
      "text/plain": [
       "<matplotlib.collections.PathCollection at 0x7f27393175e0>"
      ]
     },
     "execution_count": 57,
     "metadata": {},
     "output_type": "execute_result"
    },
    {
     "data": {
      "image/png": "[encoded data removed]",
      "text/plain": [
       "<Figure size 432x288 with 1 Axes>"
      ]
     },
     "metadata": {},
     "output_type": "display_data"
    }
   ],
   "source": [
    "%%time\n",
    "N = 32\n",
    "vals = [1.2, 0, 4, 0]\n",
    "m = get_symbolic(N)(*vals)\n",
    "eigs = scipy.linalg.eigvals(m)\n",
    "eigs = eigs[eigs != 0] # remove zero eigenvalues\n",
    "plt.scatter(eigs.real, eigs.imag, s=4)"
   ]
  },
  {
   "cell_type": "code",
   "execution_count": 58,
   "id": "cb1e6b81",
   "metadata": {},
   "outputs": [
    {
     "data": {
      "text/plain": [
       "[<matplotlib.lines.Line2D at 0x7f2739048790>]"
      ]
     },
     "execution_count": 58,
     "metadata": {},
     "output_type": "execute_result"
    },
    {
     "data": {
      "image/png": "[encoded data removed]",
      "text/plain": [
       "<Figure size 432x288 with 1 Axes>"
      ]
     },
     "metadata": {},
     "output_type": "display_data"
    }
   ],
   "source": [
    "# magnitude of eigenvalues\n",
    "plt.plot(sorted(np.sqrt(eigs*eigs.conj())))"
   ]
  },
  {
   "cell_type": "code",
   "execution_count": 62,
   "id": "d9816867",
   "metadata": {},
   "outputs": [],
   "source": [
    "def g(vf,vb,hf,hb,N):\n",
    "    plt.figure()\n",
    "    vals = [vf, vb, hf, hb]\n",
    "    m = get_symbolic(N)(*vals)\n",
    "    eigs = scipy.linalg.eigvals(m)\n",
    "    eigs = eigs[eigs != 0] # remove zero eigenvalues\n",
    "    plt.scatter(eigs.real, eigs.imag, s=4)\n",
    "    plt.show()"
   ]
  },
  {
   "cell_type": "code",
   "execution_count": 63,
   "id": "ff02268a",
   "metadata": {},
   "outputs": [
    {
     "name": "stdout",
     "output_type": "stream",
     "text": [
      "N: 16\n"
     ]
    },
    {
     "data": {
      "application/vnd.jupyter.widget-view+json": {
       "model_id": "752ddced4c264a8d815b3dae93d9afd7",
       "version_major": 2,
       "version_minor": 0
      },
      "text/plain": [
       "interactive(children=(FloatSlider(value=2.0, description='vf', max=5.0), FloatSlider(value=2.0, description='v…"
      ]
     },
     "metadata": {},
     "output_type": "display_data"
    }
   ],
   "source": [
    "N = 16\n",
    "print(\"N:\", N)\n",
    "interactive_plot = interactive(g, \n",
    "                               vf=(0, 5, 0.1),\n",
    "                               vb=(0, 5, 0.1), \n",
    "                               hf=(0, 5, 0.1), \n",
    "                               hb=(0, 5, 0.1), \n",
    "                               N = fixed(N), \n",
    "                               continuous_update=False)\n",
    "output = interactive_plot.children[-1]\n",
    "output.layout.height = '350px'\n",
    "interactive_plot"
   ]
  },
  {
   "cell_type": "code",
   "execution_count": null,
   "id": "c7e59774",
   "metadata": {},
   "outputs": [],
   "source": []
  }
 ],
 "metadata": {
  "kernelspec": {
   "display_name": "Python 3 (ipykernel)",
   "language": "python",
   "name": "python3"
  },
  "language_info": {
   "codemirror_mode": {
    "name": "ipython",
    "version": 3
   },
   "file_extension": ".py",
   "mimetype": "text/x-python",
   "name": "python",
   "nbconvert_exporter": "python",
   "pygments_lexer": "ipython3",
   "version": "3.8.8"
  }
 },
 "nbformat": 4,
 "nbformat_minor": 5
}
